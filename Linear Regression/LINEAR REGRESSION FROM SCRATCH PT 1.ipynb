{
 "cells": [
  {
   "cell_type": "markdown",
   "metadata": {},
   "source": [
    "# CONTENTS\n",
    "- The motivation\n",
    "- The Intuition\n",
    "- Mathematical concepts\n",
    "- Implementation of the Methods (Analytical and Numerical)\n",
    "- *This notebook Focuses only on the Analytical Approach*\n"
   ]
  },
  {
   "cell_type": "markdown",
   "metadata": {},
   "source": [
    "# THE MOTIVATION\n",
    "- The Linear Regression is the most natural learning algorithm for modelling data.\n",
    "\n",
    "#### Assumptions of the Linear Regression Model\n",
    "\n",
    "- It assumes a liner relationship between the dependent and independent variables\n",
    "- It assumes the variables follow a normal distrubtion , and like most Machine learning models, it assumes the features are Identically Independently distributed(I.I.D)\n",
    "- It assumes No or little multicollinearity\n",
    "- It assumes no auto-correlation between features\n",
    "- It assumes Homoscedasticity of features"
   ]
  },
  {
   "cell_type": "markdown",
   "metadata": {},
   "source": [
    "# THE INTUITION\n",
    "#####  Linear regression approach is divided into two categories:\n",
    "- The Analytical approach*\n",
    "- The Numerical Approach *\n",
    "\n",
    "- The Analytical Approach also called the Closed form solution, uses the Normal equation(or Ordinary Least squared approach), with no update rule for the weights(theta). It models a linear relationship between the dependent and independent variables and calculates the error between expected and the actual using a set criterion(either of RMSE, MSE, MAE)\n",
    "\n",
    "- The Numerical Approach uses Iterative methods updates weights until convergence or a global minimum is achieved, where the best or optimum weight value is achieved with cost error minimization. "
   ]
  },
  {
   "cell_type": "markdown",
   "metadata": {},
   "source": [
    "# Mathematical Concept: The Closed Form Solution"
   ]
  },
  {
   "cell_type": "markdown",
   "metadata": {},
   "source": [
    "- Context: Supervised Learning\n",
    "- Fit a line of the form: $y = mx + c$\n",
    "- Concept: Error Minimization of the difference between Predicted(y) and Actual(y) i.e Mimimizing the square deviation(Mean Squared Error- Cost Function/Error Metrics/Criteria\n",
    "\n",
    "- $x_i$ : is the Explanatory variable\n",
    "- $y_i$ : is the reponse variable\n",
    "\n",
    "### Prove/Derivation\n",
    "\n",
    "$y_i = \\theta_0 +\\theta_1X_1 + .......\\theta_n + e_i$ : Where $e_i$ is the error parameter\n",
    "\n",
    "- Assuming the slope of the function at the point where the error is lowest is Zero(0)i.e\n",
    "$Gradient \\nabla\\theta = 0$\n",
    "\n",
    "Then:\n",
    "$\\frac{\\partial\\theta}{\\partial t} = 0$\n",
    "\n",
    "- $min_\\theta ||y-x\\theta||^2$\n",
    "\n",
    "- Given that in Matrix calculus ; $||a||^2 = a^Ta$ ; i.e the norm squared of a is the transpose of a multiplied by a.\n",
    "\n",
    "Then:\n",
    "- $min_\\theta ||y-x\\theta||^2$ ; becomes;\n",
    "\n",
    "$(y-x\\theta)^T(y-x\\theta)$\n",
    "Taking the Partial derivation with respect to $\\theta$ ;\n",
    "- Knowing that:\n",
    "$\\frac{\\partial}{\\partial \\theta} = 0$ ; at optimal value of $\\theta$\n",
    "- and: \n",
    "$\\frac{\\partial A^TA}{\\partial \\theta} = 2A^T\\frac{\\partial A}{\\partial \\theta}$\n",
    "- also: \n",
    "$\\frac{\\partial y}{\\partial \\theta} = 0$ ; because it does not exist\n",
    "\n",
    "- The solution is thus:\n",
    "$\\frac{\\partial}{\\partial \\theta} = 0 = 2(y-x\\theta)^T.(\\frac{\\partial}{\\partial \\theta}(y-x\\theta))$\n",
    "- $0 = 2(y-x\\theta)^T.(-x)$\n",
    "- $0 = (y-x\\theta)^T.(-x)$\n",
    "- Reversing the transpose to get rid of the negative sign;\n",
    "- $0 = x^T(y-x\\theta)$\n",
    "- Expanding the bracket;\n",
    "- $0 = x^Ty - x^Tx\\theta$\n",
    "- $x^Tx\\theta = x^Ty$\n",
    "- $\\theta = (x^Tx)^{-1}.x^Ty$ : is the closed form solution for finding $\\theta$\n",
    "\n",
    "### The Error / Criteria :\n",
    "- This can be calculated using the Mean Squared Error, given by:\n",
    "$MSE = \\frac{1}{N}\\sum_{i=1}^n(h_\\theta(x) - y^i)^2$\n",
    "\n",
    "Where:\n",
    "\n",
    "$h_\\theta(x) = \\hat{y}$\n",
    "\n",
    "\n"
   ]
  },
  {
   "cell_type": "markdown",
   "metadata": {},
   "source": [
    "# Implementation of the Closed Form Solution- Analytical Approach"
   ]
  },
  {
   "cell_type": "code",
   "execution_count": 1,
   "metadata": {},
   "outputs": [],
   "source": [
    "#Import the required Library\n",
    "import pandas as pd # For reading the data and data preprocessing\n",
    "import numpy as np #For linear Algebra\n",
    "import seaborn as sns # for visualization\n",
    "import matplotlib.pyplot as plt #For visualization\n",
    "#Ipython Magic command for Inline plot display\n",
    "%matplotlib inline \n",
    "import warnings #To hide unnecessary warnings\n",
    "warnings.filterwarnings('ignore')\n"
   ]
  },
  {
   "cell_type": "markdown",
   "metadata": {},
   "source": [
    "### Read the Data"
   ]
  },
  {
   "cell_type": "code",
   "execution_count": 2,
   "metadata": {},
   "outputs": [
    {
     "name": "stdout",
     "output_type": "stream",
     "text": [
      "(22, 5)\n",
      "Index(['6', '0', '66', '50', '1'], dtype='object')\n"
     ]
    }
   ],
   "source": [
    "#Define a function to read the Data\n",
    "def read_data(path,header,sep): #Define function\n",
    "    \n",
    "    df = pd.read_csv(path,header,sep) #read the data\n",
    "    \n",
    "    print(df.shape) #Get the shape of the data\n",
    "    print(df.columns)\n",
    "    \n",
    "    return df #return df from the function\n",
    "df = read_data('o-ring-erosion-only.data', header=None, sep='\\s+')  #applying the function"
   ]
  },
  {
   "cell_type": "code",
   "execution_count": 3,
   "metadata": {},
   "outputs": [
    {
     "data": {
      "text/html": [
       "<div>\n",
       "<style scoped>\n",
       "    .dataframe tbody tr th:only-of-type {\n",
       "        vertical-align: middle;\n",
       "    }\n",
       "\n",
       "    .dataframe tbody tr th {\n",
       "        vertical-align: top;\n",
       "    }\n",
       "\n",
       "    .dataframe thead th {\n",
       "        text-align: right;\n",
       "    }\n",
       "</style>\n",
       "<table border=\"1\" class=\"dataframe\">\n",
       "  <thead>\n",
       "    <tr style=\"text-align: right;\">\n",
       "      <th></th>\n",
       "      <th>Number of O-rings at risk on a given flight</th>\n",
       "      <th>Number experiencing thermal distress</th>\n",
       "      <th>Launch temperature (degrees F)</th>\n",
       "      <th>Leak-check pressure (psi)</th>\n",
       "      <th>Temporal order of flight</th>\n",
       "    </tr>\n",
       "  </thead>\n",
       "  <tbody>\n",
       "    <tr>\n",
       "      <th>0</th>\n",
       "      <td>6</td>\n",
       "      <td>1</td>\n",
       "      <td>70</td>\n",
       "      <td>50</td>\n",
       "      <td>2</td>\n",
       "    </tr>\n",
       "    <tr>\n",
       "      <th>1</th>\n",
       "      <td>6</td>\n",
       "      <td>0</td>\n",
       "      <td>69</td>\n",
       "      <td>50</td>\n",
       "      <td>3</td>\n",
       "    </tr>\n",
       "    <tr>\n",
       "      <th>2</th>\n",
       "      <td>6</td>\n",
       "      <td>0</td>\n",
       "      <td>68</td>\n",
       "      <td>50</td>\n",
       "      <td>4</td>\n",
       "    </tr>\n",
       "    <tr>\n",
       "      <th>3</th>\n",
       "      <td>6</td>\n",
       "      <td>0</td>\n",
       "      <td>67</td>\n",
       "      <td>50</td>\n",
       "      <td>5</td>\n",
       "    </tr>\n",
       "    <tr>\n",
       "      <th>4</th>\n",
       "      <td>6</td>\n",
       "      <td>0</td>\n",
       "      <td>72</td>\n",
       "      <td>50</td>\n",
       "      <td>6</td>\n",
       "    </tr>\n",
       "  </tbody>\n",
       "</table>\n",
       "</div>"
      ],
      "text/plain": [
       "   Number of O-rings at risk on a given flight  \\\n",
       "0                                            6   \n",
       "1                                            6   \n",
       "2                                            6   \n",
       "3                                            6   \n",
       "4                                            6   \n",
       "\n",
       "   Number experiencing thermal distress  Launch temperature (degrees F)  \\\n",
       "0                                     1                              70   \n",
       "1                                     0                              69   \n",
       "2                                     0                              68   \n",
       "3                                     0                              67   \n",
       "4                                     0                              72   \n",
       "\n",
       "   Leak-check pressure (psi)  Temporal order of flight  \n",
       "0                         50                         2  \n",
       "1                         50                         3  \n",
       "2                         50                         4  \n",
       "3                         50                         5  \n",
       "4                         50                         6  "
      ]
     },
     "execution_count": 3,
     "metadata": {},
     "output_type": "execute_result"
    }
   ],
   "source": [
    "col = ['Number of O-rings at risk on a given flight',\n",
    "       'Number experiencing thermal distress',\n",
    "       'Launch temperature (degrees F)',\n",
    "       'Leak-check pressure (psi)',\n",
    "       'Temporal order of flight']\n",
    "df.columns = col\n",
    "df.head()"
   ]
  },
  {
   "cell_type": "code",
   "execution_count": 4,
   "metadata": {},
   "outputs": [
    {
     "data": {
      "text/plain": [
       "(22, 5)"
      ]
     },
     "execution_count": 4,
     "metadata": {},
     "output_type": "execute_result"
    }
   ],
   "source": [
    "df.shape"
   ]
  },
  {
   "cell_type": "code",
   "execution_count": 5,
   "metadata": {},
   "outputs": [
    {
     "data": {
      "text/html": [
       "<div>\n",
       "<style scoped>\n",
       "    .dataframe tbody tr th:only-of-type {\n",
       "        vertical-align: middle;\n",
       "    }\n",
       "\n",
       "    .dataframe tbody tr th {\n",
       "        vertical-align: top;\n",
       "    }\n",
       "\n",
       "    .dataframe thead th {\n",
       "        text-align: right;\n",
       "    }\n",
       "</style>\n",
       "<table border=\"1\" class=\"dataframe\">\n",
       "  <thead>\n",
       "    <tr style=\"text-align: right;\">\n",
       "      <th></th>\n",
       "      <th>Number of O-rings at risk on a given flight</th>\n",
       "      <th>Number experiencing thermal distress</th>\n",
       "      <th>Launch temperature (degrees F)</th>\n",
       "      <th>Leak-check pressure (psi)</th>\n",
       "      <th>Temporal order of flight</th>\n",
       "    </tr>\n",
       "  </thead>\n",
       "  <tbody>\n",
       "    <tr>\n",
       "      <th>count</th>\n",
       "      <td>22.0</td>\n",
       "      <td>22.000000</td>\n",
       "      <td>22.000000</td>\n",
       "      <td>22.000000</td>\n",
       "      <td>22.000000</td>\n",
       "    </tr>\n",
       "    <tr>\n",
       "      <th>mean</th>\n",
       "      <td>6.0</td>\n",
       "      <td>0.318182</td>\n",
       "      <td>69.727273</td>\n",
       "      <td>156.818182</td>\n",
       "      <td>12.500000</td>\n",
       "    </tr>\n",
       "    <tr>\n",
       "      <th>std</th>\n",
       "      <td>0.0</td>\n",
       "      <td>0.567900</td>\n",
       "      <td>7.179215</td>\n",
       "      <td>66.000459</td>\n",
       "      <td>6.493587</td>\n",
       "    </tr>\n",
       "    <tr>\n",
       "      <th>min</th>\n",
       "      <td>6.0</td>\n",
       "      <td>0.000000</td>\n",
       "      <td>53.000000</td>\n",
       "      <td>50.000000</td>\n",
       "      <td>2.000000</td>\n",
       "    </tr>\n",
       "    <tr>\n",
       "      <th>25%</th>\n",
       "      <td>6.0</td>\n",
       "      <td>0.000000</td>\n",
       "      <td>67.000000</td>\n",
       "      <td>100.000000</td>\n",
       "      <td>7.250000</td>\n",
       "    </tr>\n",
       "    <tr>\n",
       "      <th>50%</th>\n",
       "      <td>6.0</td>\n",
       "      <td>0.000000</td>\n",
       "      <td>70.000000</td>\n",
       "      <td>200.000000</td>\n",
       "      <td>12.500000</td>\n",
       "    </tr>\n",
       "    <tr>\n",
       "      <th>75%</th>\n",
       "      <td>6.0</td>\n",
       "      <td>0.750000</td>\n",
       "      <td>75.000000</td>\n",
       "      <td>200.000000</td>\n",
       "      <td>17.750000</td>\n",
       "    </tr>\n",
       "    <tr>\n",
       "      <th>max</th>\n",
       "      <td>6.0</td>\n",
       "      <td>2.000000</td>\n",
       "      <td>81.000000</td>\n",
       "      <td>200.000000</td>\n",
       "      <td>23.000000</td>\n",
       "    </tr>\n",
       "  </tbody>\n",
       "</table>\n",
       "</div>"
      ],
      "text/plain": [
       "       Number of O-rings at risk on a given flight  \\\n",
       "count                                         22.0   \n",
       "mean                                           6.0   \n",
       "std                                            0.0   \n",
       "min                                            6.0   \n",
       "25%                                            6.0   \n",
       "50%                                            6.0   \n",
       "75%                                            6.0   \n",
       "max                                            6.0   \n",
       "\n",
       "       Number experiencing thermal distress  Launch temperature (degrees F)  \\\n",
       "count                             22.000000                       22.000000   \n",
       "mean                               0.318182                       69.727273   \n",
       "std                                0.567900                        7.179215   \n",
       "min                                0.000000                       53.000000   \n",
       "25%                                0.000000                       67.000000   \n",
       "50%                                0.000000                       70.000000   \n",
       "75%                                0.750000                       75.000000   \n",
       "max                                2.000000                       81.000000   \n",
       "\n",
       "       Leak-check pressure (psi)  Temporal order of flight  \n",
       "count                  22.000000                 22.000000  \n",
       "mean                  156.818182                 12.500000  \n",
       "std                    66.000459                  6.493587  \n",
       "min                    50.000000                  2.000000  \n",
       "25%                   100.000000                  7.250000  \n",
       "50%                   200.000000                 12.500000  \n",
       "75%                   200.000000                 17.750000  \n",
       "max                   200.000000                 23.000000  "
      ]
     },
     "execution_count": 5,
     "metadata": {},
     "output_type": "execute_result"
    }
   ],
   "source": [
    "df.describe()"
   ]
  },
  {
   "cell_type": "code",
   "execution_count": 6,
   "metadata": {},
   "outputs": [
    {
     "data": {
      "text/plain": [
       "array([6])"
      ]
     },
     "execution_count": 6,
     "metadata": {},
     "output_type": "execute_result"
    }
   ],
   "source": [
    "df['Number of O-rings at risk on a given flight'].unique()"
   ]
  },
  {
   "cell_type": "markdown",
   "metadata": {},
   "source": [
    "### Split the data into X and Y"
   ]
  },
  {
   "cell_type": "code",
   "execution_count": 7,
   "metadata": {},
   "outputs": [],
   "source": [
    "#Split the data into X and Y\n",
    "def splitxy(df):\n",
    "    \"\"\" Defining a split function to get X(features) and Y(target) variables\"\"\"\n",
    "    \n",
    "    X = df.drop(['Number of O-rings at risk on a given flight','Number experiencing thermal distress'], axis = 1)\n",
    "    Y = df['Number experiencing thermal distress']\n",
    "    \n",
    "    return X,Y "
   ]
  },
  {
   "cell_type": "code",
   "execution_count": 8,
   "metadata": {},
   "outputs": [
    {
     "data": {
      "text/html": [
       "<div>\n",
       "<style scoped>\n",
       "    .dataframe tbody tr th:only-of-type {\n",
       "        vertical-align: middle;\n",
       "    }\n",
       "\n",
       "    .dataframe tbody tr th {\n",
       "        vertical-align: top;\n",
       "    }\n",
       "\n",
       "    .dataframe thead th {\n",
       "        text-align: right;\n",
       "    }\n",
       "</style>\n",
       "<table border=\"1\" class=\"dataframe\">\n",
       "  <thead>\n",
       "    <tr style=\"text-align: right;\">\n",
       "      <th></th>\n",
       "      <th>Launch temperature (degrees F)</th>\n",
       "      <th>Leak-check pressure (psi)</th>\n",
       "      <th>Temporal order of flight</th>\n",
       "    </tr>\n",
       "  </thead>\n",
       "  <tbody>\n",
       "    <tr>\n",
       "      <th>0</th>\n",
       "      <td>70</td>\n",
       "      <td>50</td>\n",
       "      <td>2</td>\n",
       "    </tr>\n",
       "    <tr>\n",
       "      <th>1</th>\n",
       "      <td>69</td>\n",
       "      <td>50</td>\n",
       "      <td>3</td>\n",
       "    </tr>\n",
       "    <tr>\n",
       "      <th>2</th>\n",
       "      <td>68</td>\n",
       "      <td>50</td>\n",
       "      <td>4</td>\n",
       "    </tr>\n",
       "    <tr>\n",
       "      <th>3</th>\n",
       "      <td>67</td>\n",
       "      <td>50</td>\n",
       "      <td>5</td>\n",
       "    </tr>\n",
       "    <tr>\n",
       "      <th>4</th>\n",
       "      <td>72</td>\n",
       "      <td>50</td>\n",
       "      <td>6</td>\n",
       "    </tr>\n",
       "    <tr>\n",
       "      <th>5</th>\n",
       "      <td>73</td>\n",
       "      <td>100</td>\n",
       "      <td>7</td>\n",
       "    </tr>\n",
       "    <tr>\n",
       "      <th>6</th>\n",
       "      <td>70</td>\n",
       "      <td>100</td>\n",
       "      <td>8</td>\n",
       "    </tr>\n",
       "    <tr>\n",
       "      <th>7</th>\n",
       "      <td>57</td>\n",
       "      <td>200</td>\n",
       "      <td>9</td>\n",
       "    </tr>\n",
       "    <tr>\n",
       "      <th>8</th>\n",
       "      <td>63</td>\n",
       "      <td>200</td>\n",
       "      <td>10</td>\n",
       "    </tr>\n",
       "    <tr>\n",
       "      <th>9</th>\n",
       "      <td>70</td>\n",
       "      <td>200</td>\n",
       "      <td>11</td>\n",
       "    </tr>\n",
       "    <tr>\n",
       "      <th>10</th>\n",
       "      <td>78</td>\n",
       "      <td>200</td>\n",
       "      <td>12</td>\n",
       "    </tr>\n",
       "    <tr>\n",
       "      <th>11</th>\n",
       "      <td>67</td>\n",
       "      <td>200</td>\n",
       "      <td>13</td>\n",
       "    </tr>\n",
       "    <tr>\n",
       "      <th>12</th>\n",
       "      <td>53</td>\n",
       "      <td>200</td>\n",
       "      <td>14</td>\n",
       "    </tr>\n",
       "    <tr>\n",
       "      <th>13</th>\n",
       "      <td>67</td>\n",
       "      <td>200</td>\n",
       "      <td>15</td>\n",
       "    </tr>\n",
       "    <tr>\n",
       "      <th>14</th>\n",
       "      <td>75</td>\n",
       "      <td>200</td>\n",
       "      <td>16</td>\n",
       "    </tr>\n",
       "    <tr>\n",
       "      <th>15</th>\n",
       "      <td>70</td>\n",
       "      <td>200</td>\n",
       "      <td>17</td>\n",
       "    </tr>\n",
       "    <tr>\n",
       "      <th>16</th>\n",
       "      <td>81</td>\n",
       "      <td>200</td>\n",
       "      <td>18</td>\n",
       "    </tr>\n",
       "    <tr>\n",
       "      <th>17</th>\n",
       "      <td>76</td>\n",
       "      <td>200</td>\n",
       "      <td>19</td>\n",
       "    </tr>\n",
       "    <tr>\n",
       "      <th>18</th>\n",
       "      <td>79</td>\n",
       "      <td>200</td>\n",
       "      <td>20</td>\n",
       "    </tr>\n",
       "    <tr>\n",
       "      <th>19</th>\n",
       "      <td>75</td>\n",
       "      <td>200</td>\n",
       "      <td>21</td>\n",
       "    </tr>\n",
       "    <tr>\n",
       "      <th>20</th>\n",
       "      <td>76</td>\n",
       "      <td>200</td>\n",
       "      <td>22</td>\n",
       "    </tr>\n",
       "    <tr>\n",
       "      <th>21</th>\n",
       "      <td>58</td>\n",
       "      <td>200</td>\n",
       "      <td>23</td>\n",
       "    </tr>\n",
       "  </tbody>\n",
       "</table>\n",
       "</div>"
      ],
      "text/plain": [
       "    Launch temperature (degrees F)  Leak-check pressure (psi)  \\\n",
       "0                               70                         50   \n",
       "1                               69                         50   \n",
       "2                               68                         50   \n",
       "3                               67                         50   \n",
       "4                               72                         50   \n",
       "5                               73                        100   \n",
       "6                               70                        100   \n",
       "7                               57                        200   \n",
       "8                               63                        200   \n",
       "9                               70                        200   \n",
       "10                              78                        200   \n",
       "11                              67                        200   \n",
       "12                              53                        200   \n",
       "13                              67                        200   \n",
       "14                              75                        200   \n",
       "15                              70                        200   \n",
       "16                              81                        200   \n",
       "17                              76                        200   \n",
       "18                              79                        200   \n",
       "19                              75                        200   \n",
       "20                              76                        200   \n",
       "21                              58                        200   \n",
       "\n",
       "    Temporal order of flight  \n",
       "0                          2  \n",
       "1                          3  \n",
       "2                          4  \n",
       "3                          5  \n",
       "4                          6  \n",
       "5                          7  \n",
       "6                          8  \n",
       "7                          9  \n",
       "8                         10  \n",
       "9                         11  \n",
       "10                        12  \n",
       "11                        13  \n",
       "12                        14  \n",
       "13                        15  \n",
       "14                        16  \n",
       "15                        17  \n",
       "16                        18  \n",
       "17                        19  \n",
       "18                        20  \n",
       "19                        21  \n",
       "20                        22  \n",
       "21                        23  "
      ]
     },
     "execution_count": 8,
     "metadata": {},
     "output_type": "execute_result"
    }
   ],
   "source": [
    "X,Y = splitxy(df)\n",
    "X"
   ]
  },
  {
   "cell_type": "markdown",
   "metadata": {},
   "source": [
    "### Standardize X and Add a Bias"
   ]
  },
  {
   "cell_type": "code",
   "execution_count": 9,
   "metadata": {},
   "outputs": [],
   "source": [
    "def preprocess(X,Y):\n",
    "    \n",
    "    \"\"\" Defining the preprocess function. \n",
    "        Calling X and Y variable from the preprocess function defined earlier\"\"\"\n",
    "    X, Y = splitxy(df) \n",
    "    #X = (X - X.min())/(X.max() - X.min()) #Min-Max/Standardization\n",
    "    X =(X - X.mean())/X.std() #Normalization\n",
    "    Y = Y.values.reshape(-1,1)\n",
    "    return X,Y\n",
    "\n",
    "def bias(X):\n",
    "    b = np.ones((len(X),1)) \n",
    "    \n",
    "    \"\"\"Remember the double parenthesis when using np.ones\n",
    "    Also remember that when '1' is added, \n",
    "    it states that the array wil be built column-wise\n",
    "    So stacking with X has to be in the same representation\"\"\"\n",
    "    \n",
    "    X,_ = preprocess(X,Y)\n",
    "    \n",
    "    X = np.concatenate([X,b], axis=1) #Concatenate X and bias, column wise\n",
    "    \n",
    "    \n",
    "    return X    "
   ]
  },
  {
   "cell_type": "markdown",
   "metadata": {},
   "source": [
    "### Spiltting into Train and Test Set (Train_Test_Split from Scratch)"
   ]
  },
  {
   "cell_type": "code",
   "execution_count": 10,
   "metadata": {},
   "outputs": [],
   "source": [
    "def train_test_split(X,Y,split_size=0.2): \n",
    "    \n",
    "    \"\"\" Defining split function, presetting the split ratio to 20%,\n",
    "        although it can be changed when calling the function by passing the desired value\n",
    "        using the name of the argument\"\"\"\n",
    "    _,Y = preprocess(X,Y) #Get Y, from the preprocess function\n",
    "    X = bias(X) #Get X from the bias function\n",
    "    \n",
    "    \n",
    "    #Shuffling Data\n",
    "    np.random.shuffle(X) #using numpy here but pandas can be used on the dataframe(df) directly before splitting\n",
    "    np.random.shuffle(Y)\n",
    "    \n",
    "    n = X.shape[0] #number of data points/rowa\n",
    "    test_size = n - int(n * split_size) #multiply by split size\n",
    "    \"\"\"we have to cast an int here because by default Python returns a float value,\n",
    "    Which is not what we seek\"\"\"\n",
    "    X_train,X_test = X[:test_size], X[test_size:]\n",
    "    Y_train,Y_test = Y[:test_size], Y[test_size:]\n",
    "    \n",
    "    \n",
    "    print(\"X_train Shape is: \", X_train.shape)\n",
    "    print(\"X_test Shape is: \", X_test.shape)\n",
    "    print(\"Y_train Shape is: \", Y_train.shape)\n",
    "    print(\"Y_test Shape is: \", Y_test.shape)\n",
    "    \n",
    "    \n",
    "    return X_train,X_test,Y_train,Y_test\n",
    "    \n"
   ]
  },
  {
   "cell_type": "code",
   "execution_count": 11,
   "metadata": {},
   "outputs": [
    {
     "name": "stdout",
     "output_type": "stream",
     "text": [
      "X_train Shape is:  (18, 4)\n",
      "X_test Shape is:  (4, 4)\n",
      "Y_train Shape is:  (18, 1)\n",
      "Y_test Shape is:  (4, 1)\n"
     ]
    }
   ],
   "source": [
    "#Get train and test set and store in a variable\n",
    "X_train,X_test,Y_train,Y_test = train_test_split(X,Y)"
   ]
  },
  {
   "cell_type": "markdown",
   "metadata": {},
   "source": [
    "## MODELLING : Simple Linear Regression"
   ]
  },
  {
   "cell_type": "code",
   "execution_count": 12,
   "metadata": {},
   "outputs": [],
   "source": [
    "#Define a Class\n",
    "class LinearRegression:\n",
    "    def __init__(self):\n",
    "        self.Theta = None\n",
    "    def fit(self,X_train,Y_train):\n",
    "        \"\"\" Train/Fit Function\n",
    "        Calculate theta using inv(X.T@X)@X.T@Y\"\"\"\n",
    "        \n",
    "        X_x = X_train.T@X_train #X-tern\n",
    "        X_y = X_train.T@Y_train #Y-term\n",
    "        \n",
    "        self.theta =  (np.linalg.inv(X_x))@X_y\n",
    "        \n",
    "        return self.theta\n",
    "    \n",
    "\n",
    "        \n",
    "    def predict(self,X_test):\n",
    "        \"\"\" Predict Function on Test set\"\"\"\n",
    "        self.y_pred = np.dot(X_test, self.theta)\n",
    "        \n",
    "        return self.y_pred\n",
    "    \n",
    "    def compute_mse(self):\n",
    "        \"\"\" Error Function\"\"\"\n",
    "        \n",
    "        mse = (np.subtract(self.y_pred, Y_test)**2).mean()\n",
    "        \n",
    "        print('Mse is: ')\n",
    "        \n",
    "        return mse\n",
    "        \n",
    "        \n",
    "        \n",
    "        "
   ]
  },
  {
   "cell_type": "code",
   "execution_count": 13,
   "metadata": {},
   "outputs": [
    {
     "data": {
      "text/plain": [
       "array([[0.20071718],\n",
       "       [0.00477088],\n",
       "       [0.02803488],\n",
       "       [0.40701309]])"
      ]
     },
     "execution_count": 13,
     "metadata": {},
     "output_type": "execute_result"
    }
   ],
   "source": [
    "model = LinearRegression()\n",
    "model.fit(X_train,Y_train)\n"
   ]
  },
  {
   "cell_type": "code",
   "execution_count": 14,
   "metadata": {},
   "outputs": [
    {
     "data": {
      "text/plain": [
       "array([[0.47065994],\n",
       "       [0.43718737],\n",
       "       [0.34467845],\n",
       "       [0.7017622 ]])"
      ]
     },
     "execution_count": 14,
     "metadata": {},
     "output_type": "execute_result"
    }
   ],
   "source": [
    "model.predict(X_test)"
   ]
  },
  {
   "cell_type": "code",
   "execution_count": 15,
   "metadata": {},
   "outputs": [
    {
     "name": "stdout",
     "output_type": "stream",
     "text": [
      "Mse is: \n"
     ]
    },
    {
     "data": {
      "text/plain": [
       "0.25598174866075435"
      ]
     },
     "execution_count": 15,
     "metadata": {},
     "output_type": "execute_result"
    }
   ],
   "source": [
    "model.compute_mse()"
   ]
  },
  {
   "cell_type": "code",
   "execution_count": null,
   "metadata": {},
   "outputs": [],
   "source": []
  }
 ],
 "metadata": {
  "kernelspec": {
   "display_name": "Python 3",
   "language": "python",
   "name": "python3"
  },
  "language_info": {
   "codemirror_mode": {
    "name": "ipython",
    "version": 3
   },
   "file_extension": ".py",
   "mimetype": "text/x-python",
   "name": "python",
   "nbconvert_exporter": "python",
   "pygments_lexer": "ipython3",
   "version": "3.8.5"
  }
 },
 "nbformat": 4,
 "nbformat_minor": 4
}

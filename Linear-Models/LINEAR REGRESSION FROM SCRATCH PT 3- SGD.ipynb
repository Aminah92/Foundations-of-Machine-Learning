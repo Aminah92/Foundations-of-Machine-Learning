{
 "cells": [
  {
   "cell_type": "markdown",
   "metadata": {},
   "source": [
    "# CONTENTS\n",
    "- This a continuation of the previous series on Linear regression from scratch. \n",
    "- In this notebook only one method of the numerical approach will be implemented **\" The Stochastic Gradient Descent\"**\n"
   ]
  },
  {
   "cell_type": "markdown",
   "metadata": {},
   "source": [
    "# Mathematical Concept: The Stochastic Gradient Descent\n"
   ]
  },
  {
   "cell_type": "markdown",
   "metadata": {},
   "source": [
    "- **Consider the following dataset $\\mathcal{D} = \\{x_i,y_i \\}^{N}_{i=1}$, with $x_i\\in \\mathbb{R}^{d}, y_i\\in \\mathbb{R}$**\n",
    "\n",
    "- Context: Supervised Learning\n",
    "- Fit a line of the form: \n",
    "\n",
    "$y = x\\theta $, \n",
    "\n",
    "$y \\in \\mathbb{R}^{N}$.\n",
    "- Concept: Error Minimization of the difference between Predicted ($\\hat{y}$) and Actual(y) i.e Mimimizing the square deviation(Mean Squared Error/ Cost Function/Error Metrics/Criteria\n",
    "\n",
    "- $x_i$ : are the features.\n",
    "- $y_i$ : is the response variable. \n",
    "\n",
    "### Prove/Derivation\n",
    "\n",
    "$MSE = \\frac{1}{N}\\sum_{i=1}^n(h_\\theta(x) - y)^2$\n",
    "\n",
    "Where:\n",
    "\n",
    "$h_\\theta(x) = \\hat{y}$\n",
    "\n",
    "\n",
    "- the final derivative for Gradient Descent;\n",
    "$(h_\\theta(x) - y) . x_i$\n",
    "\n",
    "- Update rule for Batch Gradient Descent is ;\n",
    "\n",
    "$\\theta_j = \\theta_j - \\alpha(h_\\theta(x) - y) . x_j$ ; \n",
    "\n",
    "also written as; $\\theta_j = \\theta_j + \\alpha(y - h_\\theta(x)) . x_j$\n",
    "\n",
    "vs\n",
    "\n",
    "- Update rule for Stochastic Gradient Descent\n",
    "\n",
    "$\\theta^i_j = \\theta^i_j - \\alpha(h_\\theta(x^i) - y^i) . x^i_j$ ; \n",
    "\n",
    "also written as; \n",
    "\n",
    "$\\theta^i_j = \\theta^i_j + \\alpha(y^i - h_\\theta(x)) . x^i_j$"
   ]
  },
  {
   "cell_type": "markdown",
   "metadata": {},
   "source": [
    "# Code Implementation of the Stochastic Gradient Descent- Numerical Approach"
   ]
  },
  {
   "cell_type": "code",
   "execution_count": 1,
   "metadata": {},
   "outputs": [],
   "source": [
    "#Import the required Library\n",
    "import pandas as pd # For reading the data and data preprocessing\n",
    "import numpy as np #For linear Algebra\n",
    "import seaborn as sns # for visualization\n",
    "import matplotlib.pyplot as plt #For visualization\n",
    "#Ipython Magic command for Inline plot display\n",
    "%matplotlib inline \n",
    "import warnings #To hide unnecessary warnings\n",
    "warnings.filterwarnings('ignore')\n"
   ]
  },
  {
   "cell_type": "markdown",
   "metadata": {},
   "source": [
    "### Read the Data"
   ]
  },
  {
   "cell_type": "code",
   "execution_count": 2,
   "metadata": {},
   "outputs": [
    {
     "name": "stdout",
     "output_type": "stream",
     "text": [
      "(22, 5)\n",
      "Index(['6', '0', '66', '50', '1'], dtype='object')\n"
     ]
    }
   ],
   "source": [
    "#Define a function to read the Data\n",
    "def read_data(path,header,sep): #Define function\n",
    "    \n",
    "    df = pd.read_csv(path,header,sep) #read the data\n",
    "    \n",
    "    print(df.shape) #Get the shape of the data\n",
    "    print(df.columns)\n",
    "    \n",
    "    return df #return df from the function\n",
    "df = read_data('o-ring-erosion-only.data', header=None, sep='\\s+')  #applying the function"
   ]
  },
  {
   "cell_type": "code",
   "execution_count": 3,
   "metadata": {},
   "outputs": [
    {
     "data": {
      "text/html": [
       "<div>\n",
       "<style scoped>\n",
       "    .dataframe tbody tr th:only-of-type {\n",
       "        vertical-align: middle;\n",
       "    }\n",
       "\n",
       "    .dataframe tbody tr th {\n",
       "        vertical-align: top;\n",
       "    }\n",
       "\n",
       "    .dataframe thead th {\n",
       "        text-align: right;\n",
       "    }\n",
       "</style>\n",
       "<table border=\"1\" class=\"dataframe\">\n",
       "  <thead>\n",
       "    <tr style=\"text-align: right;\">\n",
       "      <th></th>\n",
       "      <th>Number of O-rings at risk on a given flight</th>\n",
       "      <th>Number experiencing thermal distress</th>\n",
       "      <th>Launch temperature (degrees F)</th>\n",
       "      <th>Leak-check pressure (psi)</th>\n",
       "      <th>Temporal order of flight</th>\n",
       "    </tr>\n",
       "  </thead>\n",
       "  <tbody>\n",
       "    <tr>\n",
       "      <th>0</th>\n",
       "      <td>6</td>\n",
       "      <td>1</td>\n",
       "      <td>70</td>\n",
       "      <td>50</td>\n",
       "      <td>2</td>\n",
       "    </tr>\n",
       "    <tr>\n",
       "      <th>1</th>\n",
       "      <td>6</td>\n",
       "      <td>0</td>\n",
       "      <td>69</td>\n",
       "      <td>50</td>\n",
       "      <td>3</td>\n",
       "    </tr>\n",
       "    <tr>\n",
       "      <th>2</th>\n",
       "      <td>6</td>\n",
       "      <td>0</td>\n",
       "      <td>68</td>\n",
       "      <td>50</td>\n",
       "      <td>4</td>\n",
       "    </tr>\n",
       "    <tr>\n",
       "      <th>3</th>\n",
       "      <td>6</td>\n",
       "      <td>0</td>\n",
       "      <td>67</td>\n",
       "      <td>50</td>\n",
       "      <td>5</td>\n",
       "    </tr>\n",
       "    <tr>\n",
       "      <th>4</th>\n",
       "      <td>6</td>\n",
       "      <td>0</td>\n",
       "      <td>72</td>\n",
       "      <td>50</td>\n",
       "      <td>6</td>\n",
       "    </tr>\n",
       "  </tbody>\n",
       "</table>\n",
       "</div>"
      ],
      "text/plain": [
       "   Number of O-rings at risk on a given flight  \\\n",
       "0                                            6   \n",
       "1                                            6   \n",
       "2                                            6   \n",
       "3                                            6   \n",
       "4                                            6   \n",
       "\n",
       "   Number experiencing thermal distress  Launch temperature (degrees F)  \\\n",
       "0                                     1                              70   \n",
       "1                                     0                              69   \n",
       "2                                     0                              68   \n",
       "3                                     0                              67   \n",
       "4                                     0                              72   \n",
       "\n",
       "   Leak-check pressure (psi)  Temporal order of flight  \n",
       "0                         50                         2  \n",
       "1                         50                         3  \n",
       "2                         50                         4  \n",
       "3                         50                         5  \n",
       "4                         50                         6  "
      ]
     },
     "execution_count": 3,
     "metadata": {},
     "output_type": "execute_result"
    }
   ],
   "source": [
    "col = ['Number of O-rings at risk on a given flight',\n",
    "       'Number experiencing thermal distress',\n",
    "       'Launch temperature (degrees F)',\n",
    "       'Leak-check pressure (psi)',\n",
    "       'Temporal order of flight']\n",
    "df.columns = col\n",
    "df.head()"
   ]
  },
  {
   "cell_type": "code",
   "execution_count": 4,
   "metadata": {},
   "outputs": [
    {
     "data": {
      "text/plain": [
       "(22, 5)"
      ]
     },
     "execution_count": 4,
     "metadata": {},
     "output_type": "execute_result"
    }
   ],
   "source": [
    "df.shape"
   ]
  },
  {
   "cell_type": "code",
   "execution_count": 5,
   "metadata": {},
   "outputs": [
    {
     "data": {
      "text/html": [
       "<div>\n",
       "<style scoped>\n",
       "    .dataframe tbody tr th:only-of-type {\n",
       "        vertical-align: middle;\n",
       "    }\n",
       "\n",
       "    .dataframe tbody tr th {\n",
       "        vertical-align: top;\n",
       "    }\n",
       "\n",
       "    .dataframe thead th {\n",
       "        text-align: right;\n",
       "    }\n",
       "</style>\n",
       "<table border=\"1\" class=\"dataframe\">\n",
       "  <thead>\n",
       "    <tr style=\"text-align: right;\">\n",
       "      <th></th>\n",
       "      <th>Number of O-rings at risk on a given flight</th>\n",
       "      <th>Number experiencing thermal distress</th>\n",
       "      <th>Launch temperature (degrees F)</th>\n",
       "      <th>Leak-check pressure (psi)</th>\n",
       "      <th>Temporal order of flight</th>\n",
       "    </tr>\n",
       "  </thead>\n",
       "  <tbody>\n",
       "    <tr>\n",
       "      <th>count</th>\n",
       "      <td>22.0</td>\n",
       "      <td>22.000000</td>\n",
       "      <td>22.000000</td>\n",
       "      <td>22.000000</td>\n",
       "      <td>22.000000</td>\n",
       "    </tr>\n",
       "    <tr>\n",
       "      <th>mean</th>\n",
       "      <td>6.0</td>\n",
       "      <td>0.318182</td>\n",
       "      <td>69.727273</td>\n",
       "      <td>156.818182</td>\n",
       "      <td>12.500000</td>\n",
       "    </tr>\n",
       "    <tr>\n",
       "      <th>std</th>\n",
       "      <td>0.0</td>\n",
       "      <td>0.567900</td>\n",
       "      <td>7.179215</td>\n",
       "      <td>66.000459</td>\n",
       "      <td>6.493587</td>\n",
       "    </tr>\n",
       "    <tr>\n",
       "      <th>min</th>\n",
       "      <td>6.0</td>\n",
       "      <td>0.000000</td>\n",
       "      <td>53.000000</td>\n",
       "      <td>50.000000</td>\n",
       "      <td>2.000000</td>\n",
       "    </tr>\n",
       "    <tr>\n",
       "      <th>25%</th>\n",
       "      <td>6.0</td>\n",
       "      <td>0.000000</td>\n",
       "      <td>67.000000</td>\n",
       "      <td>100.000000</td>\n",
       "      <td>7.250000</td>\n",
       "    </tr>\n",
       "    <tr>\n",
       "      <th>50%</th>\n",
       "      <td>6.0</td>\n",
       "      <td>0.000000</td>\n",
       "      <td>70.000000</td>\n",
       "      <td>200.000000</td>\n",
       "      <td>12.500000</td>\n",
       "    </tr>\n",
       "    <tr>\n",
       "      <th>75%</th>\n",
       "      <td>6.0</td>\n",
       "      <td>0.750000</td>\n",
       "      <td>75.000000</td>\n",
       "      <td>200.000000</td>\n",
       "      <td>17.750000</td>\n",
       "    </tr>\n",
       "    <tr>\n",
       "      <th>max</th>\n",
       "      <td>6.0</td>\n",
       "      <td>2.000000</td>\n",
       "      <td>81.000000</td>\n",
       "      <td>200.000000</td>\n",
       "      <td>23.000000</td>\n",
       "    </tr>\n",
       "  </tbody>\n",
       "</table>\n",
       "</div>"
      ],
      "text/plain": [
       "       Number of O-rings at risk on a given flight  \\\n",
       "count                                         22.0   \n",
       "mean                                           6.0   \n",
       "std                                            0.0   \n",
       "min                                            6.0   \n",
       "25%                                            6.0   \n",
       "50%                                            6.0   \n",
       "75%                                            6.0   \n",
       "max                                            6.0   \n",
       "\n",
       "       Number experiencing thermal distress  Launch temperature (degrees F)  \\\n",
       "count                             22.000000                       22.000000   \n",
       "mean                               0.318182                       69.727273   \n",
       "std                                0.567900                        7.179215   \n",
       "min                                0.000000                       53.000000   \n",
       "25%                                0.000000                       67.000000   \n",
       "50%                                0.000000                       70.000000   \n",
       "75%                                0.750000                       75.000000   \n",
       "max                                2.000000                       81.000000   \n",
       "\n",
       "       Leak-check pressure (psi)  Temporal order of flight  \n",
       "count                  22.000000                 22.000000  \n",
       "mean                  156.818182                 12.500000  \n",
       "std                    66.000459                  6.493587  \n",
       "min                    50.000000                  2.000000  \n",
       "25%                   100.000000                  7.250000  \n",
       "50%                   200.000000                 12.500000  \n",
       "75%                   200.000000                 17.750000  \n",
       "max                   200.000000                 23.000000  "
      ]
     },
     "execution_count": 5,
     "metadata": {},
     "output_type": "execute_result"
    }
   ],
   "source": [
    "df.describe()"
   ]
  },
  {
   "cell_type": "code",
   "execution_count": 6,
   "metadata": {},
   "outputs": [
    {
     "data": {
      "text/plain": [
       "array([6])"
      ]
     },
     "execution_count": 6,
     "metadata": {},
     "output_type": "execute_result"
    }
   ],
   "source": [
    "df['Number of O-rings at risk on a given flight'].unique()"
   ]
  },
  {
   "cell_type": "markdown",
   "metadata": {},
   "source": [
    "### Split the data into X and Y"
   ]
  },
  {
   "cell_type": "code",
   "execution_count": 7,
   "metadata": {},
   "outputs": [],
   "source": [
    "#Split the data into X and Y\n",
    "def splitxy(df):\n",
    "    \"\"\" Defining a split function to get X(features) and Y(target) variables\"\"\"\n",
    "    \n",
    "    X = df.drop(['Number of O-rings at risk on a given flight','Number experiencing thermal distress'], axis = 1)\n",
    "    Y = df['Number experiencing thermal distress']\n",
    "    \n",
    "    return X,Y "
   ]
  },
  {
   "cell_type": "code",
   "execution_count": 8,
   "metadata": {},
   "outputs": [
    {
     "data": {
      "text/html": [
       "<div>\n",
       "<style scoped>\n",
       "    .dataframe tbody tr th:only-of-type {\n",
       "        vertical-align: middle;\n",
       "    }\n",
       "\n",
       "    .dataframe tbody tr th {\n",
       "        vertical-align: top;\n",
       "    }\n",
       "\n",
       "    .dataframe thead th {\n",
       "        text-align: right;\n",
       "    }\n",
       "</style>\n",
       "<table border=\"1\" class=\"dataframe\">\n",
       "  <thead>\n",
       "    <tr style=\"text-align: right;\">\n",
       "      <th></th>\n",
       "      <th>Launch temperature (degrees F)</th>\n",
       "      <th>Leak-check pressure (psi)</th>\n",
       "      <th>Temporal order of flight</th>\n",
       "    </tr>\n",
       "  </thead>\n",
       "  <tbody>\n",
       "    <tr>\n",
       "      <th>0</th>\n",
       "      <td>70</td>\n",
       "      <td>50</td>\n",
       "      <td>2</td>\n",
       "    </tr>\n",
       "    <tr>\n",
       "      <th>1</th>\n",
       "      <td>69</td>\n",
       "      <td>50</td>\n",
       "      <td>3</td>\n",
       "    </tr>\n",
       "    <tr>\n",
       "      <th>2</th>\n",
       "      <td>68</td>\n",
       "      <td>50</td>\n",
       "      <td>4</td>\n",
       "    </tr>\n",
       "    <tr>\n",
       "      <th>3</th>\n",
       "      <td>67</td>\n",
       "      <td>50</td>\n",
       "      <td>5</td>\n",
       "    </tr>\n",
       "    <tr>\n",
       "      <th>4</th>\n",
       "      <td>72</td>\n",
       "      <td>50</td>\n",
       "      <td>6</td>\n",
       "    </tr>\n",
       "    <tr>\n",
       "      <th>5</th>\n",
       "      <td>73</td>\n",
       "      <td>100</td>\n",
       "      <td>7</td>\n",
       "    </tr>\n",
       "    <tr>\n",
       "      <th>6</th>\n",
       "      <td>70</td>\n",
       "      <td>100</td>\n",
       "      <td>8</td>\n",
       "    </tr>\n",
       "    <tr>\n",
       "      <th>7</th>\n",
       "      <td>57</td>\n",
       "      <td>200</td>\n",
       "      <td>9</td>\n",
       "    </tr>\n",
       "    <tr>\n",
       "      <th>8</th>\n",
       "      <td>63</td>\n",
       "      <td>200</td>\n",
       "      <td>10</td>\n",
       "    </tr>\n",
       "    <tr>\n",
       "      <th>9</th>\n",
       "      <td>70</td>\n",
       "      <td>200</td>\n",
       "      <td>11</td>\n",
       "    </tr>\n",
       "    <tr>\n",
       "      <th>10</th>\n",
       "      <td>78</td>\n",
       "      <td>200</td>\n",
       "      <td>12</td>\n",
       "    </tr>\n",
       "    <tr>\n",
       "      <th>11</th>\n",
       "      <td>67</td>\n",
       "      <td>200</td>\n",
       "      <td>13</td>\n",
       "    </tr>\n",
       "    <tr>\n",
       "      <th>12</th>\n",
       "      <td>53</td>\n",
       "      <td>200</td>\n",
       "      <td>14</td>\n",
       "    </tr>\n",
       "    <tr>\n",
       "      <th>13</th>\n",
       "      <td>67</td>\n",
       "      <td>200</td>\n",
       "      <td>15</td>\n",
       "    </tr>\n",
       "    <tr>\n",
       "      <th>14</th>\n",
       "      <td>75</td>\n",
       "      <td>200</td>\n",
       "      <td>16</td>\n",
       "    </tr>\n",
       "    <tr>\n",
       "      <th>15</th>\n",
       "      <td>70</td>\n",
       "      <td>200</td>\n",
       "      <td>17</td>\n",
       "    </tr>\n",
       "    <tr>\n",
       "      <th>16</th>\n",
       "      <td>81</td>\n",
       "      <td>200</td>\n",
       "      <td>18</td>\n",
       "    </tr>\n",
       "    <tr>\n",
       "      <th>17</th>\n",
       "      <td>76</td>\n",
       "      <td>200</td>\n",
       "      <td>19</td>\n",
       "    </tr>\n",
       "    <tr>\n",
       "      <th>18</th>\n",
       "      <td>79</td>\n",
       "      <td>200</td>\n",
       "      <td>20</td>\n",
       "    </tr>\n",
       "    <tr>\n",
       "      <th>19</th>\n",
       "      <td>75</td>\n",
       "      <td>200</td>\n",
       "      <td>21</td>\n",
       "    </tr>\n",
       "    <tr>\n",
       "      <th>20</th>\n",
       "      <td>76</td>\n",
       "      <td>200</td>\n",
       "      <td>22</td>\n",
       "    </tr>\n",
       "    <tr>\n",
       "      <th>21</th>\n",
       "      <td>58</td>\n",
       "      <td>200</td>\n",
       "      <td>23</td>\n",
       "    </tr>\n",
       "  </tbody>\n",
       "</table>\n",
       "</div>"
      ],
      "text/plain": [
       "    Launch temperature (degrees F)  Leak-check pressure (psi)  \\\n",
       "0                               70                         50   \n",
       "1                               69                         50   \n",
       "2                               68                         50   \n",
       "3                               67                         50   \n",
       "4                               72                         50   \n",
       "5                               73                        100   \n",
       "6                               70                        100   \n",
       "7                               57                        200   \n",
       "8                               63                        200   \n",
       "9                               70                        200   \n",
       "10                              78                        200   \n",
       "11                              67                        200   \n",
       "12                              53                        200   \n",
       "13                              67                        200   \n",
       "14                              75                        200   \n",
       "15                              70                        200   \n",
       "16                              81                        200   \n",
       "17                              76                        200   \n",
       "18                              79                        200   \n",
       "19                              75                        200   \n",
       "20                              76                        200   \n",
       "21                              58                        200   \n",
       "\n",
       "    Temporal order of flight  \n",
       "0                          2  \n",
       "1                          3  \n",
       "2                          4  \n",
       "3                          5  \n",
       "4                          6  \n",
       "5                          7  \n",
       "6                          8  \n",
       "7                          9  \n",
       "8                         10  \n",
       "9                         11  \n",
       "10                        12  \n",
       "11                        13  \n",
       "12                        14  \n",
       "13                        15  \n",
       "14                        16  \n",
       "15                        17  \n",
       "16                        18  \n",
       "17                        19  \n",
       "18                        20  \n",
       "19                        21  \n",
       "20                        22  \n",
       "21                        23  "
      ]
     },
     "execution_count": 8,
     "metadata": {},
     "output_type": "execute_result"
    }
   ],
   "source": [
    "X,Y = splitxy(df)\n",
    "X"
   ]
  },
  {
   "cell_type": "markdown",
   "metadata": {},
   "source": [
    "### Standardize X and Add a Bias"
   ]
  },
  {
   "cell_type": "code",
   "execution_count": 9,
   "metadata": {},
   "outputs": [],
   "source": [
    "def preprocess(X,Y):\n",
    "    \n",
    "    \"\"\" Defining the preprocess function. \n",
    "        Calling X and Y variable from the preprocess function defined earlier\"\"\"\n",
    "    X, Y = splitxy(df) \n",
    "    #X = (X - X.min())/(X.max() - X.min()) #Min-Max/Standardization\n",
    "    X =(X - X.mean())/X.std() #Normalization \n",
    "    Y = Y.values.reshape(-1,1)\n",
    "    return X,Y\n",
    "\n",
    "def bias(X):\n",
    "    b = np.ones((len(X),1)) \n",
    "    \n",
    "    \"\"\"Remember the double parenthesis when using np.ones\n",
    "    Also remember that when '1' is added, \n",
    "    it states that the array wil be built column-wise\n",
    "    So stacking with X has to be in the same representation\"\"\"\n",
    "    \n",
    "    X,_ = preprocess(X,Y)\n",
    "    \n",
    "    X = np.concatenate([X,b], axis=1) #Concatenate X and bias, column wise\n",
    "    \n",
    "    \n",
    "    return X    "
   ]
  },
  {
   "cell_type": "markdown",
   "metadata": {},
   "source": [
    "### Spiltting into Train and Test Set (Train_Test_Split from Scratch)"
   ]
  },
  {
   "cell_type": "code",
   "execution_count": 10,
   "metadata": {},
   "outputs": [],
   "source": [
    "def train_test_split(X,Y,split_size=0.2): \n",
    "    \n",
    "    \"\"\" Defining split function, presetting the split ratio to 20%,\n",
    "        although it can be changed when calling the function by passing the desired value\n",
    "        using the name of the argument\"\"\"\n",
    "    _,Y = preprocess(X,Y) #Get Y, from the preprocess function\n",
    "    X = bias(X) #Get X from the bias function\n",
    "    \n",
    "    #X = X.sample(frac=1, random_state=anything)==another way of shuffling data\n",
    "    #Shuffling Data\n",
    "    np.random.shuffle(X) #using numpy here but pandas can be used on the dataframe(df) directly before splitting\n",
    "    np.random.shuffle(Y)\n",
    "    \n",
    "    n = X.shape[0] #number of data points/rowa\n",
    "    test_size = n - int(n * split_size) #multiply by split size\n",
    "    \"\"\"we have to cast an int here because by default Python returns a float value,\n",
    "    Which is not what we seek\"\"\"\n",
    "    X_train,X_test = X[:test_size], X[test_size:]\n",
    "    Y_train,Y_test = Y[:test_size], Y[test_size:]\n",
    "    \n",
    "    \n",
    "    print(\"X_train Shape is: \", X_train.shape)\n",
    "    print(\"X_test Shape is: \", X_test.shape)\n",
    "    print(\"Y_train Shape is: \", Y_train.shape)\n",
    "    print(\"Y_test Shape is: \", Y_test.shape)\n",
    "    \n",
    "    \n",
    "    return X_train,X_test,Y_train,Y_test\n",
    "    \n"
   ]
  },
  {
   "cell_type": "code",
   "execution_count": 11,
   "metadata": {},
   "outputs": [
    {
     "name": "stdout",
     "output_type": "stream",
     "text": [
      "X_train Shape is:  (18, 4)\n",
      "X_test Shape is:  (4, 4)\n",
      "Y_train Shape is:  (18, 1)\n",
      "Y_test Shape is:  (4, 1)\n"
     ]
    }
   ],
   "source": [
    "#Get train and test set and store in a variable\n",
    "X_train,X_test,Y_train,Y_test = train_test_split(X,Y)"
   ]
  },
  {
   "cell_type": "markdown",
   "metadata": {},
   "source": [
    "## MODELLING : Simple Linear Regression"
   ]
  },
  {
   "cell_type": "code",
   "execution_count": 12,
   "metadata": {},
   "outputs": [],
   "source": [
    "#Define the model Class\n",
    "class SGD:\n",
    "    def __init__(self,lr,epoch):\n",
    "        self.theta = None\n",
    "        self.lr = lr\n",
    "        self.epoch = epoch\n",
    "\n",
    "    def fit(self,X_train,y_train,eps=0.0000001):\n",
    "        \"\"\" Train/Fit Function\n",
    "        Calculate theta iteratively using the update rule. \n",
    "        eps= Precision. We set the precision to define a point of convergence\"\"\"\n",
    "        d =X_train.shape[1]\n",
    "        \n",
    "        cost = [] #initiate cost as a list to be used for storing and plotting the loss at each iteration\n",
    "        self.theta = np.random.rand(d,1) #initiate theta as a random set of numbers with same shape as X features\n",
    "        m = 1/(len(y_train))\n",
    "        #print(self.theta.shape)\n",
    "        for j in range(self.epoch): #define a for loop for the iterative process over all training data(epoch)\n",
    "            for i in range(X_train.shape[0]): ##define a for loop for the iterative process over a single training data(iteration)\n",
    "                prev_theta = self.theta #storing the initial value of theta for to compare with precision of thresh if set\n",
    "        \n",
    "                single_X = X_train[i].reshape(1,-1) #to avoid matmul error. We now have X has a row vector, so we need to reshape.\n",
    "        #define the derviative of the loss function(the gradient)\n",
    "        \n",
    "                grad = single_X.T@(single_X@self.theta - y_train[i])\n",
    "        #Also represented as: grad = (X_train@theta - y_train)@X_train\n",
    "        #define the update rule\n",
    "                self.theta = self.theta - self.lr * (1/m) * grad\n",
    "                loss = (1/m) * np.sum(((single_X@self.theta)-y_train[i])**2)\n",
    "                diff = np.sum(prev_theta - self.theta) #Setting a precision\n",
    "                if diff <= eps:\n",
    "                    break\n",
    "                cost.append(loss)\n",
    "                plt.plot(cost) #Plot loss during training\n",
    "            \n",
    "            \n",
    "            \n",
    "           \n",
    "        \n",
    "        \n",
    "        return self.theta\n",
    "    \n",
    "\n",
    "        \n",
    "    def predict(self,X_test):\n",
    "        \"\"\" Predict Function on Test set\"\"\"\n",
    "        self.y_pred = np.dot(X_test, self.theta)\n",
    "        \n",
    "        return self.y_pred\n",
    "    \n",
    "    def compute_mse(self):\n",
    "        \"\"\" Error Function\"\"\"\n",
    "        \n",
    "        mse = (np.subtract(self.y_pred, Y_test)**2).mean()\n",
    "        \n",
    "        print('Mse is: ')\n",
    "        \n",
    "        return mse\n",
    "        \n",
    "        \n",
    "        \n",
    "        "
   ]
  },
  {
   "cell_type": "code",
   "execution_count": 13,
   "metadata": {},
   "outputs": [
    {
     "data": {
      "text/plain": [
       "array([[-0.4771371 ],\n",
       "       [ 0.01210548],\n",
       "       [ 0.02873642],\n",
       "       [ 1.08418399]])"
      ]
     },
     "execution_count": 13,
     "metadata": {},
     "output_type": "execute_result"
    },
    {
     "data": {
      "image/png": "[encoded data removed]",
      "text/plain": [
       "<Figure size 432x288 with 1 Axes>"
      ]
     },
     "metadata": {
      "needs_background": "light"
     },
     "output_type": "display_data"
    }
   ],
   "source": [
    "model = SGD(lr=0.001,epoch=4400)\n",
    "model.fit(X_train,Y_train)\n"
   ]
  },
  {
   "cell_type": "code",
   "execution_count": 14,
   "metadata": {},
   "outputs": [
    {
     "data": {
      "text/plain": [
       "array([[0.36724801],\n",
       "       [0.50902052],\n",
       "       [0.75716272],\n",
       "       [0.83191482]])"
      ]
     },
     "execution_count": 14,
     "metadata": {},
     "output_type": "execute_result"
    }
   ],
   "source": [
    "model.predict(X_test)"
   ]
  },
  {
   "cell_type": "code",
   "execution_count": 15,
   "metadata": {},
   "outputs": [
    {
     "name": "stdout",
     "output_type": "stream",
     "text": [
      "Mse is: \n"
     ]
    },
    {
     "data": {
      "text/plain": [
       "0.4148376606785996"
      ]
     },
     "execution_count": 15,
     "metadata": {},
     "output_type": "execute_result"
    }
   ],
   "source": [
    "model.compute_mse()"
   ]
  },
  {
   "cell_type": "code",
   "execution_count": null,
   "metadata": {},
   "outputs": [],
   "source": []
  }
 ],
 "metadata": {
  "kernelspec": {
   "display_name": "Python 3",
   "language": "python",
   "name": "python3"
  },
  "language_info": {
   "codemirror_mode": {
    "name": "ipython",
    "version": 3
   },
   "file_extension": ".py",
   "mimetype": "text/x-python",
   "name": "python",
   "nbconvert_exporter": "python",
   "pygments_lexer": "ipython3",
   "version": "3.8.5"
  }
 },
 "nbformat": 4,
 "nbformat_minor": 4
}
